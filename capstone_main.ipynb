{
 "cells": [
  {
   "cell_type": "markdown",
   "metadata": {},
   "source": [
    "# CAPSTONE"
   ]
  },
  {
   "cell_type": "markdown",
   "metadata": {},
   "source": [
    "## Is being a professional musician hazardous to your health? \n",
    "It seems like every other week we hear of another famous musician dying at a premature age. \n",
    "But is the lifespan of a professional musician really that much shorter than the general population?"
   ]
  },
  {
   "cell_type": "markdown",
   "metadata": {},
   "source": [
    "## Goal \n",
    "In this project I will attempt to demonstrate the overall lifespans of professional musicians versus the general population and try to explain whether or not musicians tend to die young and why. "
   ]
  },
  {
   "cell_type": "markdown",
   "metadata": {},
   "source": [
    "## Data\n",
    "Potential data sources include: \n",
    "- Government death statistic databases \n",
    "- Scraping of Wikipedia for musicians via Web or API"
   ]
  },
  {
   "cell_type": "markdown",
   "metadata": {},
   "source": [
    "## Outline your proposed methods and models\n",
    "- Using the WHO Mortality Database, gather death statistics (age at death, cause of death) for the general population from 1950 to the present day (http://www.who.int/healthinfo/mortality_data/en/) \n",
    "- Using Wikipedia (https://en.wikipedia.org/wiki/List_of_deaths_in_rock_and_roll) scrape pages for ages at death and causes of death for musicians from the 1950's to present day. "
   ]
  },
  {
   "cell_type": "markdown",
   "metadata": {},
   "source": [
    "## Define the risks & assumptions of your data\n",
    "I'm assuming my two datasets will match up fairly closely, but that assumpution is probably a risk in itself. The WHO database uses a set of codes for causes of death that may or may not translate well to the Wikipedia information. "
   ]
  },
  {
   "cell_type": "markdown",
   "metadata": {},
   "source": [
    "## Revise initial goals & success criteria, as needed\n",
    "No revisions needed at this time. "
   ]
  },
  {
   "cell_type": "markdown",
   "metadata": {},
   "source": [
    "## Perform & summarize the EDA of your data\n",
    "I have just begun gathering data to perform EDA. "
   ]
  }
 ],
 "metadata": {
  "kernelspec": {
   "display_name": "Python [default]",
   "language": "python",
   "name": "python3"
  },
  "language_info": {
   "codemirror_mode": {
    "name": "ipython",
    "version": 3
   },
   "file_extension": ".py",
   "mimetype": "text/x-python",
   "name": "python",
   "nbconvert_exporter": "python",
   "pygments_lexer": "ipython3",
   "version": "3.6.3"
  }
 },
 "nbformat": 4,
 "nbformat_minor": 2
}
